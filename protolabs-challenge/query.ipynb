{
 "cells": [
  {
   "cell_type": "code",
   "execution_count": 1,
   "id": "3e634876",
   "metadata": {},
   "outputs": [],
   "source": [
    "import sqlite3\n",
    "import pandas as pd\n",
    "from tabulate import tabulate"
   ]
  },
  {
   "cell_type": "code",
   "execution_count": 12,
   "id": "13511601",
   "metadata": {},
   "outputs": [],
   "source": [
    "# Connect to the SQLite database (or create it if it doesn't exist)\n",
    "conn = sqlite3.connect(\"data/cases.db\")\n",
    "\n",
    "# Query to select all records from the cases table\n",
    "query = \"SELECT * FROM cases\"\n",
    "\n",
    "# Execute the query and load the data into a pandas DataFrame\n",
    "df = pd.read_sql_query(query, conn) "
   ]
  },
  {
   "cell_type": "code",
   "execution_count": 13,
   "id": "ff096e99",
   "metadata": {},
   "outputs": [
    {
     "name": "stdout",
     "output_type": "stream",
     "text": [
      "<class 'pandas.core.frame.DataFrame'>\n",
      "RangeIndex: 20000 entries, 0 to 19999\n",
      "Data columns (total 20 columns):\n",
      " #   Column                        Non-Null Count  Dtype  \n",
      "---  ------                        --------------  -----  \n",
      " 0   created                       20000 non-null  object \n",
      " 1   updated                       20000 non-null  object \n",
      " 2   queued                        20000 non-null  object \n",
      " 3   geometric_heuristics          19961 non-null  object \n",
      " 4   holes                         10211 non-null  object \n",
      " 5   job_run_time                  19961 non-null  object \n",
      " 6   latheability                  17503 non-null  object \n",
      " 7   machining_directions          19938 non-null  object \n",
      " 8   multipart                     19938 non-null  object \n",
      " 9   neighbors                     19938 non-null  object \n",
      " 10  poles                         1877 non-null   object \n",
      " 11  sheet_like_shape              14685 non-null  object \n",
      " 12  unmachinable_edges            19097 non-null  object \n",
      " 13  extrusion_height              323 non-null    float64\n",
      " 14  units                         20000 non-null  object \n",
      " 15  status                        20000 non-null  object \n",
      " 16  time                          20000 non-null  object \n",
      " 17  uuid                          20000 non-null  object \n",
      " 18  has_unreachable_hole_warning  20000 non-null  int64  \n",
      " 19  has_unreachable_hole_error    20000 non-null  int64  \n",
      "dtypes: float64(1), int64(2), object(17)\n",
      "memory usage: 3.1+ MB\n",
      "None\n"
     ]
    }
   ],
   "source": [
    "# Display the info of the data\n",
    "print(df.info())"
   ]
  },
  {
   "cell_type": "code",
   "execution_count": 14,
   "id": "190e1167",
   "metadata": {},
   "outputs": [
    {
     "name": "stdout",
     "output_type": "stream",
     "text": [
      "+----+---------------------+---------------------+---------------------+------------------------------------+---------------------------------------------------------------------------------------------------------------------------------------------------------------------------------------------------------------------------------------------------------------------------------------------------------------------------------------------------------------------------------------------------------------------------------------------------------------------------------------------------------------------+--------------------------------------+-------------------------------------------------------------------------------------------------------------+-----------------------------------------------------------------------------------------------------------------------------------------------------------------------------------------------------------------------------------------------------------------------------------------------------------------------------------------------------------------------------------------------------------------------------------------------------------------------------------------+-----------------------------------------------------------------+----------------------------------------------------------+------------------------------------------------------------------------------------------------------------------------------------------------------------------------------------------------------------------------------------------------+--------------------------------------------------------------------------------------------------------+----------------------------------------------------------------------------------------------------------------------------------------------------------------------+--------------------+---------+-----------+--------+--------------------------------------+--------------------------------+------------------------------+\n",
      "|    | created             | updated             | queued              | geometric_heuristics               | holes                                                                                                                                                                                                                                                                                                                                                                                                                                                                                                               | job_run_time                         | latheability                                                                                                | machining_directions                                                                                                                                                                                                                                                                                                                                                                                                                                                                    | multipart                                                       | neighbors                                                | poles                                                                                                                                                                                                                                          | sheet_like_shape                                                                                       | unmachinable_edges                                                                                                                                                   |   extrusion_height | units   | status    |   time | uuid                                 |   has_unreachable_hole_warning |   has_unreachable_hole_error |\n",
      "|----+---------------------+---------------------+---------------------+------------------------------------+---------------------------------------------------------------------------------------------------------------------------------------------------------------------------------------------------------------------------------------------------------------------------------------------------------------------------------------------------------------------------------------------------------------------------------------------------------------------------------------------------------------------+--------------------------------------+-------------------------------------------------------------------------------------------------------------+-----------------------------------------------------------------------------------------------------------------------------------------------------------------------------------------------------------------------------------------------------------------------------------------------------------------------------------------------------------------------------------------------------------------------------------------------------------------------------------------+-----------------------------------------------------------------+----------------------------------------------------------+------------------------------------------------------------------------------------------------------------------------------------------------------------------------------------------------------------------------------------------------+--------------------------------------------------------------------------------------------------------+----------------------------------------------------------------------------------------------------------------------------------------------------------------------+--------------------+---------+-----------+--------+--------------------------------------+--------------------------------+------------------------------|\n",
      "|  0 | 2020-02-15 22:46:41 | 2020-02-15 22:47:00 | 2020-02-15 22:46:42 | {\"unit\":\"milliseconds\",\"value\":56} |                                                                                                                                                                                                                                                                                                                                                                                                                                                                                                                     | {\"unit\":\"milliseconds\",\"value\":7491} | {\"axis\":{\"x\":1,\"y\":0,\"z\":0},\"fraction\":0.8458833759,\"origin\":{\"x\":0,\"y\":0,\"z\":0}}                           | {\"box_volume\":{\"unit\":\"mm3\",\"value\":15590.8676903292},\"direction_removable_volume\":{\"unit\":\"mm3\",\"value\":[5293.4776890988,9922.9892688634,9618.3022941414,9645.4781083851,9392.4624479578,9449.6556960208]},\"is_machinable\":true,\"selected_directions\":[false,false,true,true,false,false],\"unmachinable_volume\":{\"unit\":\"mm3\",\"value\":0},\"unmachinable_volume_url\":\"s3://3dhubs-production-relais/machining_pricing/c98fd2d7-3801-43b2-a4b8-b7a1a0e797bb-cnc-unmachinable-volume.stl\"} | {\"multibody\":false,\"patches\":{\"count\":1,\"not_tiny_count\":null}} | {\"unit\":\"mm3\",\"value\":[8576,6425,3703,762,24,0,0]}       |                                                                                                                                                                                                                                                |                                                                                                        | {\"count\":1469,\"edge_list_url\":\"s3://3dhubs-production-relais/machining_pricing/c98fd2d7-3801-43b2-a4b8-b7a1a0e797bb-unmachinable_edges.stl\",\"length\":340.7309402734} |                nan | mm      | completed |   7547 | 92fe59e7-eae0-4ba9-bf74-22a82f2c2c83 |                              0 |                            0 |\n",
      "|  1 | 2020-05-13 14:17:10 | 2020-05-13 14:17:11 | 2020-05-13 14:17:10 | {\"unit\":\"milliseconds\",\"value\":44} |                                                                                                                                                                                                                                                                                                                                                                                                                                                                                                                     | {\"unit\":\"milliseconds\",\"value\":1143} | {\"axis\":{\"x\":0,\"y\":0,\"z\":1},\"fraction\":0.8448643198,\"origin\":{\"x\":-2.1866824051,\"y\":7.4799701691,\"z\":-2.5}} | {\"box_volume\":{\"unit\":\"mm3\",\"value\":6241.536},\"direction_removable_volume\":{\"unit\":\"mm3\",\"value\":[767.2581666667,767.2951666667,746.5128333333,746.5618333333,599.34,520.6976666667]},\"is_machinable\":true,\"selected_directions\":[true,false,false,false,true,false],\"unmachinable_volume\":{\"unit\":\"mm3\",\"value\":0},\"unmachinable_volume_url\":\"s3://3dhubs-production-relais/machining_pricing/8b5aba8d-3a87-4504-bf0f-8c41fb3b4070-cnc-unmachinable-volume.stl\"}                       | {\"multibody\":false,\"patches\":{\"count\":1,\"not_tiny_count\":null}} | {\"unit\":\"mm3\",\"value\":[374,4058,0,0,28,68,0]}            |                                                                                                                                                                                                                                                | {\"detected\":true,\"positive_fraction_of_samples\":0.8245,\"thickness\":\"3.0\"}                              | {\"count\":0,\"edge_list_url\":\"s3://3dhubs-production-relais/machining_pricing/8b5aba8d-3a87-4504-bf0f-8c41fb3b4070-unmachinable_edges.stl\",\"length\":0}                 |                nan | mm      | completed |   1187 | 0dd8b940-6b35-4ed5-a981-ce05e0734b4f |                              0 |                            0 |\n",
      "|  2 | 2022-02-16 16:27:18 | 2022-02-16 16:27:19 | 2022-02-16 16:27:18 | {\"unit\":\"milliseconds\",\"value\":67} | [{\"center\":{\"x\":4.254160968e-24,\"y\":8.7312498093,\"z\":-4.254160978e-24},\"direction\":{\"x\":0,\"y\":-1,\"z\":0},\"end1\":{\"closed\":true,\"reachable\":false},\"end2\":{\"closed\":false,\"reachable\":true},\"facet_count\":228,\"length\":17.4624996185,\"radius\":8.4074001312},{\"center\":{\"x\":1.127295893e-23,\"y\":18.2562494278,\"z\":-1.127295884e-23},\"direction\":{\"x\":0,\"y\":-1,\"z\":0},\"end1\":{\"closed\":true,\"reachable\":false},\"end2\":{\"closed\":false,\"reachable\":true},\"facet_count\":228,\"length\":1.5874996185,\"radius\":9.6773998966}] | {\"unit\":\"milliseconds\",\"value\":1161} | {\"axis\":{\"x\":0,\"y\":1,\"z\":0},\"fraction\":1,\"origin\":{\"x\":0,\"y\":0,\"z\":0}}                                      | {\"box_volume\":{\"unit\":\"mm3\",\"value\":10455.28},\"direction_removable_volume\":{\"unit\":\"mm3\",\"value\":[1491.4595,1491.4915,2528.3005,6602.9618333333,1445.6961666667,1445.664]},\"is_machinable\":true,\"selected_directions\":[true,false,false,true,false,false],\"unmachinable_volume\":{\"unit\":\"mm3\",\"value\":0},\"unmachinable_volume_url\":\"s3://3dhubs-production-relais/machining_pricing/53a5e371-671f-4188-871b-cb01a099b183-cnc-unmachinable-volume.stl\"}                                  | {\"multibody\":false,\"patches\":{\"count\":1,\"not_tiny_count\":1}}    | {\"unit\":\"mm3\",\"value\":[591,2421,2404,1524,1009,8,0]}     |                                                                                                                                                                                                                                                | {\"detected\":true,\"positive_fraction_of_samples\":0.6609,\"thickness\":{\"unit\":\"mm\",\"value\":2.2851321491}} | {\"count\":0,\"edge_list_url\":\"s3://3dhubs-production-relais/machining_pricing/53a5e371-671f-4188-871b-cb01a099b183-unmachinable_edges.stl\",\"length\":0}                 |                nan | mm      | completed |   1228 | 9691095c-d562-4bda-813f-7dbe7398d686 |                              0 |                            0 |\n",
      "|  3 | 2021-05-17 16:42:08 | 2021-05-17 16:42:10 | 2021-05-17 16:42:08 | {\"unit\":\"milliseconds\",\"value\":57} | [{\"center\":{\"x\":0,\"y\":0,\"z\":28.8500003815},\"direction\":{\"x\":-2.977975821e-19,\"y\":-1.990346847e-19,\"z\":1},\"end1\":{\"closed\":false,\"reachable\":true},\"end2\":{\"closed\":false,\"reachable\":true},\"facet_count\":null,\"length\":57.7000007629,\"radius\":3.2999999523}]                                                                                                                                                                                                                                                        | {\"unit\":\"milliseconds\",\"value\":1910} | {\"axis\":{\"x\":0,\"y\":0,\"z\":1},\"fraction\":0.8821019447,\"origin\":{\"x\":0,\"y\":0,\"z\":0}}                           | {\"box_volume\":{\"unit\":\"mm3\",\"value\":26218.712},\"direction_removable_volume\":{\"unit\":\"mm3\",\"value\":[8200.6383333333,8200.5983333333,7383.8083333333,7383.8563333333,11782.6965,7333.6788333333]},\"is_machinable\":true,\"selected_directions\":[false,false,false,false,true,true],\"unmachinable_volume\":{\"unit\":\"mm3\",\"value\":0},\"unmachinable_volume_url\":\"s3://3dhubs-production-model-repository/machining_pricing/f382b15c-c4a2-4550-ab8b-a58905da238e-cnc-unmachinable-volume.stl\"}   | {\"multibody\":false,\"patches\":{\"count\":1,\"not_tiny_count\":null}} | {\"unit\":\"mm3\",\"value\":[3588,8766,4560,516,780,32,0]}     | [{\"center\":{\"x\":-2.782968637e-24,\"y\":-2.782968637e-24,\"z\":12.6999998093},\"direction\":{\"x\":2.061621065e-20,\"y\":5.290784016e-19,\"z\":-1},\"end\":{\"closed\":true,\"reachable\":true},\"facet_count\":null,\"length\":25.3999996185,\"radius\":6.8000001907}] | {\"detected\":false,\"positive_fraction_of_samples\":0.0228,\"thickness\":{\"unit\":\"mm\",\"value\":0}}           | {\"count\":0,\"edge_list_url\":\"s3://3dhubs-production-model-repository/machining_pricing/f382b15c-c4a2-4550-ab8b-a58905da238e-unmachinable_edges.stl\",\"length\":0}       |                nan | mm      | completed |   1967 | 66102ac6-37a3-45b7-97dd-56d02b6ac651 |                              0 |                            0 |\n",
      "|  4 | 2019-11-01 05:34:37 | 2019-11-01 05:34:43 | 2019-11-01 05:34:37 | {\"unit\":\"milliseconds\",\"value\":75} |                                                                                                                                                                                                                                                                                                                                                                                                                                                                                                                     | {\"unit\":\"milliseconds\",\"value\":5949} | {\"axis\":{\"x\":1,\"y\":0,\"z\":0},\"fraction\":0.9367016721,\"origin\":{\"x\":0,\"y\":0,\"z\":0}}                           | {\"box_volume\":{\"unit\":\"mm3\",\"value\":184171.806},\"direction_removable_volume\":{\"unit\":\"mm3\",\"value\":[115570.1154375,162078.885914056,39067.3609453121,42141.9083906246,39094.7421796871,39092.2051640621]},\"is_machinable\":true,\"selected_directions\":[true,true,false,false,false,false],\"unmachinable_volume\":{\"unit\":\"mm3\",\"value\":0},\"unmachinable_volume_url\":\"s3://3dhubs-production-relais/machining_pricing/80535fa1-4fc9-42d5-90ec-a0048b9314a9-cnc-unmachinable-volume.stl\"}   | {\"multibody\":false,\"patches\":{\"count\":1,\"not_tiny_count\":null}} | {\"unit\":\"mm3\",\"value\":[91270,55336,40349,10925,824,0,0]} |                                                                                                                                                                                                                                                |                                                                                                        | {\"count\":0,\"edge_list_url\":\"s3://3dhubs-production-relais/machining_pricing/80535fa1-4fc9-42d5-90ec-a0048b9314a9-unmachinable_edges.stl\",\"length\":0}                 |                nan | mm      | completed |   6024 | 2c9d084c-dd69-4aff-8b85-a50d0f657372 |                              0 |                            0 |\n",
      "+----+---------------------+---------------------+---------------------+------------------------------------+---------------------------------------------------------------------------------------------------------------------------------------------------------------------------------------------------------------------------------------------------------------------------------------------------------------------------------------------------------------------------------------------------------------------------------------------------------------------------------------------------------------------+--------------------------------------+-------------------------------------------------------------------------------------------------------------+-----------------------------------------------------------------------------------------------------------------------------------------------------------------------------------------------------------------------------------------------------------------------------------------------------------------------------------------------------------------------------------------------------------------------------------------------------------------------------------------+-----------------------------------------------------------------+----------------------------------------------------------+------------------------------------------------------------------------------------------------------------------------------------------------------------------------------------------------------------------------------------------------+--------------------------------------------------------------------------------------------------------+----------------------------------------------------------------------------------------------------------------------------------------------------------------------+--------------------+---------+-----------+--------+--------------------------------------+--------------------------------+------------------------------+\n"
     ]
    }
   ],
   "source": [
    "# Display the first few rows of the DataFrame\n",
    "print(tabulate(df.head(5), headers='keys', tablefmt='psql'))\n",
    "\n",
    "# Close the database connection\n",
    "conn.close()"
   ]
  },
  {
   "cell_type": "code",
   "execution_count": null,
   "id": "9ecabe22",
   "metadata": {},
   "outputs": [],
   "source": []
  }
 ],
 "metadata": {
  "kernelspec": {
   "display_name": "protolabs-challenge",
   "language": "python",
   "name": "python3"
  },
  "language_info": {
   "codemirror_mode": {
    "name": "ipython",
    "version": 3
   },
   "file_extension": ".py",
   "mimetype": "text/x-python",
   "name": "python",
   "nbconvert_exporter": "python",
   "pygments_lexer": "ipython3",
   "version": "3.13.3"
  }
 },
 "nbformat": 4,
 "nbformat_minor": 5
}
